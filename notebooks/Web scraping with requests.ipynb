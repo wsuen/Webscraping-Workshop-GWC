{
 "cells": [
  {
   "cell_type": "markdown",
   "metadata": {},
   "source": [
    "<h3>Let's have fun with webscraping"
   ]
  },
  {
   "cell_type": "markdown",
   "metadata": {},
   "source": [
    "If you'd like to follow along, notebooks and instructions at: *https://github.com/wsuen/Webscraping-Workshop-GWC*"
   ]
  },
  {
   "cell_type": "markdown",
   "metadata": {},
   "source": [
    "<img src=\"imgs/catscatscats.png\" =60x60>"
   ]
  },
  {
   "cell_type": "markdown",
   "metadata": {},
   "source": [
    "<b>How to pull data"
   ]
  },
  {
   "cell_type": "markdown",
   "metadata": {},
   "source": [
    "* Find out which URL/s you want data from.\n",
    "\n",
    "* Find out how the data is stored on the webpage.\n",
    "\n",
    "* request.get(), then let the fun begin!\n",
    "\n"
   ]
  },
  {
   "cell_type": "code",
   "execution_count": 1,
   "metadata": {
    "collapsed": false
   },
   "outputs": [
    {
     "data": {
      "text/plain": [
       "200"
      ]
     },
     "execution_count": 1,
     "metadata": {},
     "output_type": "execute_result"
    }
   ],
   "source": [
    "import requests\n",
    "\n",
    "my_example_domain = \"http://placekitten.com/\"\n",
    "\n",
    "r = requests.get(my_example_domain)\n",
    "\n",
    "r.status_code"
   ]
  },
  {
   "cell_type": "code",
   "execution_count": 2,
   "metadata": {
    "collapsed": false,
    "scrolled": true
   },
   "outputs": [
    {
     "data": {
      "text/plain": [
       "'<!DOCTYPE html>\\n<!--[if lt IE 7 ]> <html lang=\"en\" class=\"no-js ie6\"> <![endif]-->\\n<!--[if IE 7 ]> <html lang=\"en\" class=\"no-js ie7\"> <![endif]-->\\n<!--[if IE 8 ]> <html lang=\"en\" class=\"no-js ie8\"> <![endif]-->\\n<!--[if IE 9 ]> <html lang=\"en\" class=\"no-js ie9\"> <![endif]-->\\n<!--[if (gt IE 9)|!(IE)]><!--> <html lang=\"en\" class=\"no-js\"> <!--<![endif]-->\\n<head xmlns:rdf=\"http://www.w3.org/1999/02/22-rdf-syntax-ns#\" xmlns:dc=\"http://purl.org/dc/elements/1.1/\" xmlns:og=\"http://ogp.me/ns#\"><meta charset=\"utf-8\">\\n\\n\\t<!--\\n\\n\\tBREAKING NEWS: KITTENS FKN LOVE YARN\\n\\n                      __     __,\\n                      \\\\,`~\"~` /\\n      .-=-.           /    . .\\\\\\n     / .-. \\\\          {  =    Y}=\\n    (_/   \\\\ \\\\          \\\\      / \\n           \\\\ \\\\        _/`\\'`\\'`b\\n            \\\\ `.__.-\\'`        \\\\-._\\n             |            \\'.__ `\\'-;_\\n             |            _.\\' `\\'-.__)\\n              \\\\    ;_..-`\\'/     //  \\\\\\n              |   /  /   |     //    |\\n              \\\\  \\\\ \\\\__)   \\\\   //    /\\n               \\\\__)        \\'.//   .\\'\\n                             `\\'-\\'`\\n\\n\\t-->\\n\\n\\t<meta http-equiv=\"X-UA-Compatible\" content=\"IE=edge,chrome=1\">\\n\\t<meta http-equiv=\"imagetoolbar\" content=\"no\">\\n\\n\\t<!-- Standard Metadata -->\\n\\t<title>{placekitten}</title>\\n\\t<meta name=\"description\" content=\"Kitten-themed placeholder images for developers :3\">\\n\\t<meta name=\"author\" content=\"Mark James (http://mark.james.name)\">\\n\\t<meta name=\"keywords\" content=\"kittens, placeholders, images, cats, felines, kittycats, hot pussy photos\">\\n\\t<meta name=\"copyright\" content=\"Mark James. Images &copy; people on the internet.\">\\n\\t<meta name=\"robots\" content=\"all\">\\n\\t<meta name=\"viewport\" content=\"width=device-width; initial-scale=1.0;\">\\n\\t\\n\\t<!-- Dublin Core Metadata -->\\n\\t<meta name=\"DC.identifier\" content=\"http://example.com\" />\\n\\t<meta name=\"DC.creator\" lang=\"en\" content=\"Mark James\">\\n\\t<meta name=\"DC.date.created\" lang=\"en\" content=\"2011-02-26\">\\n\\t<meta name=\"DC.date.modifed\" lang=\"en\" content=\"2005-02-26\">\\n\\t<meta name=\"DC.format\" lang=\"en\" content=\"text/html\">\\n\\t<meta name=\"DC.language\" content=\"en\">\\n\\t<meta name=\"DC.coverage\" lang=\"en\" content=\"UK\">\\n\\t<meta name=\"DC.publisher\" lang=\"en\" content=\"Mark James\" />\\n\\n\\t<!-- Open Graph Metadata -->\\n\\t<meta property=\"og:site_name\" content=\"placekitten\">\\n\\t<meta property=\"og:title\" content=\"placekitten\">\\n\\t<meta property=\"og:description\" content=\"Kitten-themed placeholder images for developers :3\">\\n\\t<meta property=\"og:type\" content=\"website\">\\n\\t<meta property=\"og:image\" content=\"http://placekitten.com/100/100\">\\n\\t<meta property=\"og:url\" content=\"http://placekitten.com\">\\n\\n\\t<!-- Navigation -->\\n\\t<link rel=\"home\" href=\"/\">\\n\\n\\t<!-- Icons -->\\n\\t<link rel=\"shortcut icon\" href=\"/favicon.ico\">\\n\\t<link rel=\"apple-touch-icon\" href=\"/apple-touch-icon.png\">\\n\\n\\t<!-- CSS -->\\n\\t<link rel=\"stylesheet\" href=\"assets/css/html5kit/style.css\">\\n\\t<link rel=\"stylesheet\" href=\"assets/css/placekitten.css\">\\n\\n\\t<!-- Analytics -->\\n\\t<script>\\n\\t\\tvar _gaq = _gaq || [];\\n\\t\\t_gaq.push([\\'_setAccount\\', \\'UA-21694863-1\\']);\\n\\t\\t_gaq.push([\\'_trackPageview\\']);\\n\\t\\t(function() {\\n\\t\\t\\tvar ga = document.createElement(\\'script\\'); ga.type = \\'text/javascript\\'; ga.async = true;\\n\\t\\t\\tga.src = (\\'https:\\' == document.location.protocol ? \\'https://ssl\\' : \\'http://www\\') + \\'.google-analytics.com/ga.js\\';\\n\\t\\t\\tvar s = document.getElementsByTagName(\\'script\\')[0]; s.parentNode.insertBefore(ga, s);\\n\\t\\t})();\\n\\t</script>\\n\\n</head>\\n<body class=\"page-homepage template-homepage section-homepage environment-live\">\\n\\n\\t<div id=\"container\">\\n\\n\\t\\t<div id=\"primary-content\" role=\"main\">\\n\\n\\t\\t\\t<div id=\"unit-kitten-content\" class=\"unit\">\\n\\t\\t\\t\\t\\n\\t\\t\\t\\t<header id=\"header\">\\n\\t\\t\\t\\t\\t<h1>placekitten</h1>\\n\\t\\t\\t\\t</header><!-- /#header -->\\n\\n\\t\\t\\t\\t<p title=\"It fits a gap in the market. \"><strong>A quick and simple service for getting pictures of kittens for use as placeholders in your designs or code.</strong> Just put your image size (width <span class=\"amp\">&amp;</span> height) after our URL and you\\'ll get a&nbsp;placeholder.</p>\\n\\t\\t\\t\\t\\n\\t\\t\\t\\t<p class=\"links\">\\n\\t\\t\\t\\t\\tLike this: <a href=\"/200/300\">http://placekitten.com/200/300</a><br>\\n\\t\\t\\t\\t\\tor: <a href=\"/g/200/300\">http://placekitten.com/g/200/300</a>\\n\\t\\t\\t\\t</p>\\n\\t\\t\\t\\t\\n\\t\\t\\t\\t<img id=\"image-0\" src=\"http://placekitten.com.s3.amazonaws.com/homepage-samples/408/287.jpg\" alt=\"\">\\n\\t\\t\\t\\t\\n\\t\\t\\t</div>\\n\\t\\t\\t\\n\\t\\t\\t<div id=\"unit-many-many-pictures-of-small-cats\" class=\"unit\">\\n\\t\\t\\t\\t<img id=\"image-1\" src=\"http://placekitten.com.s3.amazonaws.com/homepage-samples/200/287.jpg\" alt=\"\">\\n\\t\\t\\t\\t<img id=\"image-2\" src=\"http://placekitten.com.s3.amazonaws.com/homepage-samples/200/140.jpg\" alt=\"\">\\n\\t\\t\\t\\t<img id=\"image-3\" src=\"http://placekitten.com.s3.amazonaws.com/homepage-samples/200/139.jpg\" alt=\"\">\\n\\t\\t\\t\\t<img id=\"image-4\" src=\"http://placekitten.com.s3.amazonaws.com/homepage-samples/200/286.jpg\" alt=\"\">\\n\\t\\t\\t\\t<img id=\"image-5\" src=\"http://placekitten.com.s3.amazonaws.com/homepage-samples/96/140.jpg\" alt=\"\">\\n\\t\\t\\t\\t<img id=\"image-6\" src=\"http://placekitten.com.s3.amazonaws.com/homepage-samples/96/139.jpg\" alt=\"\">\\n\\t\\t\\t\\t<img id=\"image-7\" src=\"http://placekitten.com.s3.amazonaws.com/homepage-samples/200/138.jpg\" alt=\"\">\\n\\t\\t\\t</div>\\n\\t\\t\\t\\n\\t\\t</div><!-- /#primary-content -->\\n\\n\\t\\t<footer id=\"footer\" role=\"contentinfo\">\\n\\t\\t\\t<p>Delivered by <a href=\"http://mark.james.name\">Mark James</a> <span class=\"amp\">&amp;</span> Photographers (<a href=\"attribution.html\">Image attribution</a>) &mdash; <a href=\"http://placehold.it/\">Inspired by placehold.it</a></p>\\n\\t\\t</footer><!-- /#footer -->\\n\\n\\t</div><!-- /#container -->\\n\\n</body>\\n</html>'"
      ]
     },
     "execution_count": 2,
     "metadata": {},
     "output_type": "execute_result"
    }
   ],
   "source": [
    "#doesn't look very nice and human readable\n",
    "r.content"
   ]
  },
  {
   "cell_type": "markdown",
   "metadata": {},
   "source": [
    "Beautiful Soup to the rescue!"
   ]
  },
  {
   "cell_type": "code",
   "execution_count": 3,
   "metadata": {
    "collapsed": false
   },
   "outputs": [],
   "source": [
    "from bs4 import BeautifulSoup\n",
    "\n",
    "my_soup = BeautifulSoup(r.content, \"html.parser\")"
   ]
  },
  {
   "cell_type": "code",
   "execution_count": 4,
   "metadata": {
    "collapsed": false
   },
   "outputs": [
    {
     "name": "stdout",
     "output_type": "stream",
     "text": [
      "<!DOCTYPE html>\n",
      "<!--[if lt IE 7 ]> <html lang=\"en\" class=\"no-js ie6\"> <![endif]-->\n",
      "<!--[if IE 7 ]> <html lang=\"en\" class=\"no-js ie7\"> <![endif]-->\n",
      "<!--[if IE 8 ]> <html lang=\"en\" class=\"no-js ie8\"> <![endif]-->\n",
      "<!--[if IE 9 ]> <html lang=\"en\" class=\"no-js ie9\"> <![endif]-->\n",
      "<!--[if (gt IE 9)|!(IE)]><!-->\n",
      "<html class=\"no-js\" lang=\"en\">\n",
      " <!--<![endif]-->\n",
      " <head xmlns:dc=\"http://purl.org/dc/elements/1.1/\" xmlns:og=\"http://ogp.me/ns#\" xmlns:rdf=\"http://www.w3.org/1999/02/22-rdf-syntax-ns#\">\n",
      "  <meta charset=\"utf-8\">\n",
      "   <!--\n",
      "\n",
      "\tBREAKING NEWS: KITTENS FKN LOVE YARN\n",
      "\n",
      "                      __     __,\n",
      "                      \\,`~\"~` /\n",
      "      .-=-.           /    . .\\\n",
      "     / .-. \\          {  =    Y}=\n",
      "    (_/   \\ \\          \\      / \n",
      "           \\ \\        _/`'`'`b\n",
      "            \\ `.__.-'`        \\-._\n",
      "             |            '.__ `'-;_\n",
      "             |            _.' `'-.__)\n",
      "              \\    ;_..-`'/     //  \\\n",
      "              |   /  /   |     //    |\n",
      "              \\  \\ \\__)   \\   //    /\n",
      "               \\__)        './/   .'\n",
      "                             `'-'`\n",
      "\n",
      "\t-->\n",
      "   <meta content=\"IE=edge,chrome=1\" http-equiv=\"X-UA-Compatible\">\n",
      "    <meta content=\"no\" http-equiv=\"imagetoolbar\">\n",
      "     <!-- Standard Metadata -->\n",
      "     <title>\n",
      "      {placekitten}\n",
      "     </title>\n",
      "     <meta content=\"Kitten-themed placeholder images for developers :3\" name=\"description\">\n",
      "      <meta content=\"Mark James (http://mark.james.name)\" name=\"author\">\n",
      "       <meta content=\"kittens, placeholders, images, cats, felines, kittycats, hot pussy photos\" name=\"keywords\">\n",
      "        <meta content=\"Mark James. Images © people on the internet.\" name=\"copyright\">\n",
      "         <meta content=\"all\" name=\"robots\">\n",
      "          <meta content=\"width=device-width; initial-scale=1.0;\" name=\"viewport\">\n",
      "           <!-- Dublin Core Metadata -->\n",
      "           <meta content=\"http://example.com\" name=\"DC.identifier\"/>\n",
      "           <meta content=\"Mark James\" lang=\"en\" name=\"DC.creator\">\n",
      "            <meta content=\"2011-02-26\" lang=\"en\" name=\"DC.date.created\">\n",
      "             <meta content=\"2005-02-26\" lang=\"en\" name=\"DC.date.modifed\">\n",
      "              <meta content=\"text/html\" lang=\"en\" name=\"DC.format\">\n",
      "               <meta content=\"en\" name=\"DC.language\">\n",
      "                <meta content=\"UK\" lang=\"en\" name=\"DC.coverage\">\n",
      "                 <meta content=\"Mark James\" lang=\"en\" name=\"DC.publisher\"/>\n",
      "                 <!-- Open Graph Metadata -->\n",
      "                 <meta content=\"placekitten\" property=\"og:site_name\">\n",
      "                  <meta content=\"placekitten\" property=\"og:title\">\n",
      "                   <meta content=\"Kitten-themed placeholder images for developers :3\" property=\"og:description\">\n",
      "                    <meta content=\"website\" property=\"og:type\">\n",
      "                     <meta content=\"http://placekitten.com/100/100\" property=\"og:image\">\n",
      "                      <meta content=\"http://placekitten.com\" property=\"og:url\">\n",
      "                       <!-- Navigation -->\n",
      "                       <link href=\"/\" rel=\"home\">\n",
      "                        <!-- Icons -->\n",
      "                        <link href=\"/favicon.ico\" rel=\"shortcut icon\">\n",
      "                         <link href=\"/apple-touch-icon.png\" rel=\"apple-touch-icon\">\n",
      "                          <!-- CSS -->\n",
      "                          <link href=\"assets/css/html5kit/style.css\" rel=\"stylesheet\">\n",
      "                           <link href=\"assets/css/placekitten.css\" rel=\"stylesheet\">\n",
      "                            <!-- Analytics -->\n",
      "                            <script>\n",
      "                             var _gaq = _gaq || [];\n",
      "\t\t_gaq.push(['_setAccount', 'UA-21694863-1']);\n",
      "\t\t_gaq.push(['_trackPageview']);\n",
      "\t\t(function() {\n",
      "\t\t\tvar ga = document.createElement('script'); ga.type = 'text/javascript'; ga.async = true;\n",
      "\t\t\tga.src = ('https:' == document.location.protocol ? 'https://ssl' : 'http://www') + '.google-analytics.com/ga.js';\n",
      "\t\t\tvar s = document.getElementsByTagName('script')[0]; s.parentNode.insertBefore(ga, s);\n",
      "\t\t})();\n",
      "                            </script>\n",
      "                           </link>\n",
      "                          </link>\n",
      "                         </link>\n",
      "                        </link>\n",
      "                       </link>\n",
      "                      </meta>\n",
      "                     </meta>\n",
      "                    </meta>\n",
      "                   </meta>\n",
      "                  </meta>\n",
      "                 </meta>\n",
      "                </meta>\n",
      "               </meta>\n",
      "              </meta>\n",
      "             </meta>\n",
      "            </meta>\n",
      "           </meta>\n",
      "          </meta>\n",
      "         </meta>\n",
      "        </meta>\n",
      "       </meta>\n",
      "      </meta>\n",
      "     </meta>\n",
      "    </meta>\n",
      "   </meta>\n",
      "  </meta>\n",
      " </head>\n",
      " <body class=\"page-homepage template-homepage section-homepage environment-live\">\n",
      "  <div id=\"container\">\n",
      "   <div id=\"primary-content\" role=\"main\">\n",
      "    <div class=\"unit\" id=\"unit-kitten-content\">\n",
      "     <header id=\"header\">\n",
      "      <h1>\n",
      "       placekitten\n",
      "      </h1>\n",
      "     </header>\n",
      "     <!-- /#header -->\n",
      "     <p title=\"It fits a gap in the market. \">\n",
      "      <strong>\n",
      "       A quick and simple service for getting pictures of kittens for use as placeholders in your designs or code.\n",
      "      </strong>\n",
      "      Just put your image size (width\n",
      "      <span class=\"amp\">\n",
      "       &amp;\n",
      "      </span>\n",
      "      height) after our URL and you'll get a placeholder.\n",
      "     </p>\n",
      "     <p class=\"links\">\n",
      "      Like this:\n",
      "      <a href=\"/200/300\">\n",
      "       http://placekitten.com/200/300\n",
      "      </a>\n",
      "      <br>\n",
      "       or:\n",
      "       <a href=\"/g/200/300\">\n",
      "        http://placekitten.com/g/200/300\n",
      "       </a>\n",
      "      </br>\n",
      "     </p>\n",
      "     <img alt=\"\" id=\"image-0\" src=\"http://placekitten.com.s3.amazonaws.com/homepage-samples/408/287.jpg\">\n",
      "     </img>\n",
      "    </div>\n",
      "    <div class=\"unit\" id=\"unit-many-many-pictures-of-small-cats\">\n",
      "     <img alt=\"\" id=\"image-1\" src=\"http://placekitten.com.s3.amazonaws.com/homepage-samples/200/287.jpg\">\n",
      "      <img alt=\"\" id=\"image-2\" src=\"http://placekitten.com.s3.amazonaws.com/homepage-samples/200/140.jpg\">\n",
      "       <img alt=\"\" id=\"image-3\" src=\"http://placekitten.com.s3.amazonaws.com/homepage-samples/200/139.jpg\">\n",
      "        <img alt=\"\" id=\"image-4\" src=\"http://placekitten.com.s3.amazonaws.com/homepage-samples/200/286.jpg\">\n",
      "         <img alt=\"\" id=\"image-5\" src=\"http://placekitten.com.s3.amazonaws.com/homepage-samples/96/140.jpg\">\n",
      "          <img alt=\"\" id=\"image-6\" src=\"http://placekitten.com.s3.amazonaws.com/homepage-samples/96/139.jpg\">\n",
      "           <img alt=\"\" id=\"image-7\" src=\"http://placekitten.com.s3.amazonaws.com/homepage-samples/200/138.jpg\">\n",
      "           </img>\n",
      "          </img>\n",
      "         </img>\n",
      "        </img>\n",
      "       </img>\n",
      "      </img>\n",
      "     </img>\n",
      "    </div>\n",
      "   </div>\n",
      "   <!-- /#primary-content -->\n",
      "   <footer id=\"footer\" role=\"contentinfo\">\n",
      "    <p>\n",
      "     Delivered by\n",
      "     <a href=\"http://mark.james.name\">\n",
      "      Mark James\n",
      "     </a>\n",
      "     <span class=\"amp\">\n",
      "      &amp;\n",
      "     </span>\n",
      "     Photographers (\n",
      "     <a href=\"attribution.html\">\n",
      "      Image attribution\n",
      "     </a>\n",
      "     ) —\n",
      "     <a href=\"http://placehold.it/\">\n",
      "      Inspired by placehold.it\n",
      "     </a>\n",
      "    </p>\n",
      "   </footer>\n",
      "   <!-- /#footer -->\n",
      "  </div>\n",
      "  <!-- /#container -->\n",
      " </body>\n",
      "</html>\n"
     ]
    }
   ],
   "source": [
    "print my_soup.prettify()"
   ]
  },
  {
   "cell_type": "code",
   "execution_count": 6,
   "metadata": {
    "collapsed": false,
    "scrolled": false
   },
   "outputs": [
    {
     "name": "stdout",
     "output_type": "stream",
     "text": [
      "http://placekitten.com.s3.amazonaws.com/homepage-samples/408/287.jpg\n",
      "http://placekitten.com.s3.amazonaws.com/homepage-samples/200/287.jpg\n",
      "http://placekitten.com.s3.amazonaws.com/homepage-samples/200/140.jpg\n",
      "http://placekitten.com.s3.amazonaws.com/homepage-samples/200/139.jpg\n",
      "http://placekitten.com.s3.amazonaws.com/homepage-samples/200/286.jpg\n",
      "http://placekitten.com.s3.amazonaws.com/homepage-samples/96/140.jpg\n",
      "http://placekitten.com.s3.amazonaws.com/homepage-samples/96/139.jpg\n",
      "http://placekitten.com.s3.amazonaws.com/homepage-samples/200/138.jpg\n"
     ]
    }
   ],
   "source": [
    "#print out img elements in my html\n",
    "for cat in my_soup.findAll(\"img\"):\n",
    "    #print cat\n",
    "    print cat.get(\"src\")"
   ]
  },
  {
   "cell_type": "code",
   "execution_count": 7,
   "metadata": {
    "collapsed": true
   },
   "outputs": [],
   "source": [
    "my_soup.findAll?"
   ]
  },
  {
   "cell_type": "code",
   "execution_count": null,
   "metadata": {
    "collapsed": true
   },
   "outputs": [],
   "source": []
  },
  {
   "cell_type": "markdown",
   "metadata": {
    "collapsed": true
   },
   "source": [
    "<b>How to save data"
   ]
  },
  {
   "cell_type": "markdown",
   "metadata": {},
   "source": [
    "<img src=\"imgs/cats_img.png\">"
   ]
  },
  {
   "cell_type": "markdown",
   "metadata": {},
   "source": [
    "Use case: I need to save all cat pictures to a folder, so I can look at them even if the internet is down."
   ]
  },
  {
   "cell_type": "code",
   "execution_count": 8,
   "metadata": {
    "collapsed": false
   },
   "outputs": [
    {
     "name": "stdout",
     "output_type": "stream",
     "text": [
      "I saved 8 cat pictures!\n"
     ]
    }
   ],
   "source": [
    "from PIL import Image\n",
    "\n",
    "cat_index = 0\n",
    "for cat in my_soup.findAll(\"img\"):\n",
    "    img_url = cat.get(\"src\")\n",
    "    img_request = requests.get(img_url)\n",
    "    with open(\"saved_cats/cat_%d.png\" %cat_index, \"w\") as wf:\n",
    "        wf.write(img_request.content)\n",
    "    cat_index += 1\n",
    "    \n",
    "print \"I saved %d cat pictures!\" %cat_index"
   ]
  },
  {
   "cell_type": "markdown",
   "metadata": {},
   "source": [
    "<b>How to play nicely "
   ]
  },
  {
   "cell_type": "markdown",
   "metadata": {},
   "source": [
    "* Some sites get mad if you scrape their data.\n",
    "\n",
    "* Some sites are ok with it, on certain conditions.\n",
    "\n",
    "* When in doubt, sites will generally have a ToS page.\n"
   ]
  },
  {
   "cell_type": "code",
   "execution_count": null,
   "metadata": {
    "collapsed": true
   },
   "outputs": [],
   "source": []
  }
 ],
 "metadata": {
  "kernelspec": {
   "display_name": "Python 2",
   "language": "python",
   "name": "python2"
  },
  "language_info": {
   "codemirror_mode": {
    "name": "ipython",
    "version": 2
   },
   "file_extension": ".py",
   "mimetype": "text/x-python",
   "name": "python",
   "nbconvert_exporter": "python",
   "pygments_lexer": "ipython2",
   "version": "2.7.9"
  }
 },
 "nbformat": 4,
 "nbformat_minor": 0
}
